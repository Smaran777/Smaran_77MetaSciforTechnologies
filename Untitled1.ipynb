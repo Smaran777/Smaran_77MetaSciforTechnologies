{
  "nbformat": 4,
  "nbformat_minor": 0,
  "metadata": {
    "colab": {
      "provenance": [],
      "authorship_tag": "ABX9TyMGTZQ6soDz7U1B93Lxeyqb",
      "include_colab_link": true
    },
    "kernelspec": {
      "name": "python3",
      "display_name": "Python 3"
    },
    "language_info": {
      "name": "python"
    }
  },
  "cells": [
    {
      "cell_type": "markdown",
      "metadata": {
        "id": "view-in-github",
        "colab_type": "text"
      },
      "source": [
        "<a href=\"https://colab.research.google.com/github/Smaran777/Smaran_77MetaSciforTechnologies/blob/main/Untitled1.ipynb\" target=\"_parent\"><img src=\"https://colab.research.google.com/assets/colab-badge.svg\" alt=\"Open In Colab\"/></a>"
      ]
    },
    {
      "cell_type": "markdown",
      "source": [
        "1.Write a Python program to check if a number is even or odd.\n"
      ],
      "metadata": {
        "id": "iZ_2YuQC54O6"
      }
    },
    {
      "cell_type": "code",
      "source": [
        "def check_even_odd(number):\n",
        "    if number % 2 == 0:\n",
        "        return \"Even\"\n",
        "    else:\n",
        "        return \"Odd\"\n",
        "\n",
        "# Example usage\n",
        "num = int(input(\"Enter a number: \"))\n",
        "print(f\"The number {num} is {check_even_odd(num)}\")"
      ],
      "metadata": {
        "colab": {
          "base_uri": "https://localhost:8080/"
        },
        "id": "Lsc8rG9P6Ker",
        "outputId": "f75963a2-bb4d-49dd-8ac4-20d12019e538"
      },
      "execution_count": 1,
      "outputs": [
        {
          "output_type": "stream",
          "name": "stdout",
          "text": [
            "Enter a number: 3\n",
            "The number 3 is Odd\n"
          ]
        }
      ]
    },
    {
      "cell_type": "markdown",
      "source": [
        "2.Write a Python function to reverse a string without using built-in functions."
      ],
      "metadata": {
        "id": "grpnIM0N6WCa"
      }
    },
    {
      "cell_type": "code",
      "source": [
        "def reverse_string(s):\n",
        "    reversed_str = \"\"\n",
        "    for char in s:\n",
        "        reversed_str = char + reversed_str\n",
        "    return reversed_str\n",
        "\n",
        "# Example usage\n",
        "input_str = input(\"Enter a string: \")\n",
        "print(f\"Reversed string: {reverse_string(input_str)}\")"
      ],
      "metadata": {
        "colab": {
          "base_uri": "https://localhost:8080/"
        },
        "id": "smCRAKPa6aSm",
        "outputId": "73a39db3-d894-4bb7-acba-9cfe774c86c8"
      },
      "execution_count": 2,
      "outputs": [
        {
          "output_type": "stream",
          "name": "stdout",
          "text": [
            "Enter a string: Hello world\n",
            "Reversed string: dlrow olleH\n"
          ]
        }
      ]
    },
    {
      "cell_type": "markdown",
      "source": [
        "3.Write a Python program to find the largest number in a given list.\n"
      ],
      "metadata": {
        "id": "kTkpIMb67KDD"
      }
    },
    {
      "cell_type": "code",
      "source": [
        "def find_largest_number(numbers):\n",
        "    largest = numbers[0]\n",
        "    for num in numbers:\n",
        "        if num > largest:\n",
        "            largest = num\n",
        "    return largest\n",
        "\n",
        "numbers = [10,20,30,40,50]\n",
        "print(f\"The largest number in the list is: {find_largest_number(numbers)}\")"
      ],
      "metadata": {
        "colab": {
          "base_uri": "https://localhost:8080/"
        },
        "id": "CREbeP8p7xd1",
        "outputId": "9297d10f-21e6-405e-9b25-e72a4602b21c"
      },
      "execution_count": 11,
      "outputs": [
        {
          "output_type": "stream",
          "name": "stdout",
          "text": [
            "The largest number in the list is: 50\n"
          ]
        }
      ]
    },
    {
      "cell_type": "markdown",
      "source": [
        "4.Write a Python function to check if a given string is a palindrome.\n"
      ],
      "metadata": {
        "id": "W6sNni5F88vs"
      }
    },
    {
      "cell_type": "code",
      "source": [
        "def check_palindrome(s):\n",
        "    reversed_s = reverse_string(s)\n",
        "    if s == reversed_s:\n",
        "        print(f\"{s} is a palindrome\")\n",
        "    else:\n",
        "        print(f\"{s} is not a palindrome\")\n",
        "\n",
        "check_palindrome(\"radar\")\n",
        "check_palindrome(\"hello\")\n"
      ],
      "metadata": {
        "colab": {
          "base_uri": "https://localhost:8080/"
        },
        "id": "bDo21FIa-a-m",
        "outputId": "f6eabf15-5944-499b-afbd-cd37e4977533"
      },
      "execution_count": 10,
      "outputs": [
        {
          "output_type": "stream",
          "name": "stdout",
          "text": [
            "radar is a palindrome\n",
            "hello is not a palindrome\n"
          ]
        }
      ]
    },
    {
      "cell_type": "markdown",
      "source": [
        "5. Count the occurrences of each character in a given string\n"
      ],
      "metadata": {
        "id": "72wuugbz-iXC"
      }
    },
    {
      "cell_type": "code",
      "source": [
        "def count_char_occurrences(s):\n",
        "    char_count = {}\n",
        "    for char in s:\n",
        "        if char in char_count:\n",
        "            char_count[char] += 1\n",
        "        else:\n",
        "            char_count[char] = 1\n",
        "    return char_count\n",
        "\n",
        "print(count_char_occurrences(\"hello\"))\n"
      ],
      "metadata": {
        "colab": {
          "base_uri": "https://localhost:8080/"
        },
        "id": "mq0OLRug-tE9",
        "outputId": "894976ff-b5e4-422b-9584-ab778a958475"
      },
      "execution_count": 9,
      "outputs": [
        {
          "output_type": "stream",
          "name": "stdout",
          "text": [
            "{'h': 1, 'e': 1, 'l': 2, 'o': 1}\n"
          ]
        }
      ]
    },
    {
      "cell_type": "markdown",
      "source": [
        "**Object-Oriented Programming (OOP) Questions:**\n"
      ],
      "metadata": {
        "id": "xCFiDeke_HKT"
      }
    },
    {
      "cell_type": "markdown",
      "source": [
        "1. Difference between a class and an object in Python\n"
      ],
      "metadata": {
        "id": "MTFccE0q_92w"
      }
    },
    {
      "cell_type": "markdown",
      "source": [
        "Ans : A class is a blueprint or template that defines the properties and behavior of an object. An object is an instance of a class, which has its own set of attributes (data) and methods (functions).\n"
      ],
      "metadata": {
        "id": "2V1jISjYACGH"
      }
    },
    {
      "cell_type": "markdown",
      "source": [
        "2. Concept of inheritance with an example in Python\n"
      ],
      "metadata": {
        "id": "j05myFBGAHGx"
      }
    },
    {
      "cell_type": "markdown",
      "source": [
        "Ans : Inheritance is a mechanism in which one class can inherit the properties and behavior of another class. The child class inherits all the attributes and methods of the parent class and can also add new attributes and methods or override the ones inherited from the parent class.\n"
      ],
      "metadata": {
        "id": "nfzTqtUpAK5Z"
      }
    },
    {
      "cell_type": "code",
      "source": [
        "# Parent class (Superclass)\n",
        "class Animal:\n",
        "    def __init__(self, name):\n",
        "        self.name = name\n",
        "\n",
        "    def speak(self):\n",
        "        return f\"{self.name} makes a sound.\"\n",
        "\n",
        "\n",
        "# Child class (Subclass) inheriting from Animal\n",
        "class Dog(Animal):\n",
        "    def speak(self):\n",
        "        return f\"{self.name} barks!\"\n",
        "\n",
        "\n",
        "# Another child class (Subclass) inheriting from Animal\n",
        "class Cat(Animal):\n",
        "    def speak(self):\n",
        "        return f\"{self.name} meows!\"\n",
        "\n",
        "\n",
        "# Using the classes\n",
        "dog = Dog(\"Buddy\")\n",
        "cat = Cat(\"Whiskers\")\n",
        "\n",
        "print(dog.speak())\n",
        "print(cat.speak())"
      ],
      "metadata": {
        "colab": {
          "base_uri": "https://localhost:8080/"
        },
        "id": "nxVC9y54AxMF",
        "outputId": "3997d955-6287-45d6-87de-3807c14179e8"
      },
      "execution_count": 14,
      "outputs": [
        {
          "output_type": "stream",
          "name": "stdout",
          "text": [
            "Buddy barks!\n",
            "Whiskers meows!\n"
          ]
        }
      ]
    },
    {
      "cell_type": "markdown",
      "source": [
        "3. What is method overriding in Python? Provide an example.\n"
      ],
      "metadata": {
        "id": "OFYbSV_bA_z6"
      }
    },
    {
      "cell_type": "code",
      "source": [
        "# Parent class\n",
        "class Animal:\n",
        "    def speak(self):\n",
        "        return \"Animal makes a sound.\"\n",
        "\n",
        "\n",
        "# Child class overriding the speak method\n",
        "class Dog(Animal):\n",
        "    def speak(self):\n",
        "        return \"Dog barks!\"\n",
        "\n",
        "\n",
        "# Child class overriding the speak method\n",
        "class Cat(Animal):\n",
        "    def speak(self):\n",
        "        return \"Cat meows!\"\n",
        "\n",
        "\n",
        "# Using the classes\n",
        "animal = Animal()\n",
        "dog = Dog()\n",
        "cat = Cat()\n",
        "\n",
        "print(animal.speak())"
      ],
      "metadata": {
        "colab": {
          "base_uri": "https://localhost:8080/"
        },
        "id": "T_7jzxSTCAvr",
        "outputId": "56dc9565-4104-4b2c-829d-74e22ea64dbe"
      },
      "execution_count": 15,
      "outputs": [
        {
          "output_type": "stream",
          "name": "stdout",
          "text": [
            "Animal makes a sound.\n"
          ]
        }
      ]
    },
    {
      "cell_type": "markdown",
      "source": [
        "4. What is the difference between an instance method, class method, and static method in Python?\n"
      ],
      "metadata": {
        "id": "Orc_ZAlsCH-B"
      }
    },
    {
      "cell_type": "markdown",
      "source": [
        "**Instance Methods**"
      ],
      "metadata": {
        "id": "V5LuXtJICvFD"
      }
    },
    {
      "cell_type": "code",
      "source": [
        "class MyClass:\n",
        "    def __init__(self, value):\n",
        "        self.value = value\n",
        "\n",
        "    # Instance method\n",
        "    def display(self):\n",
        "        print(f\"Value: {self.value}\")\n",
        "\n",
        "\n",
        "# Creating an instance of MyClass\n",
        "obj = MyClass(10)\n",
        "obj.display()"
      ],
      "metadata": {
        "colab": {
          "base_uri": "https://localhost:8080/"
        },
        "id": "YJPSl31LCxz5",
        "outputId": "96dbdff4-d92a-4af7-fc07-008476041852"
      },
      "execution_count": 19,
      "outputs": [
        {
          "output_type": "stream",
          "name": "stdout",
          "text": [
            "Value: 10\n"
          ]
        }
      ]
    },
    {
      "cell_type": "markdown",
      "source": [
        "**Class** **Methods**\n",
        "\n"
      ],
      "metadata": {
        "id": "cKpGpt-eDQRN"
      }
    },
    {
      "cell_type": "code",
      "source": [
        "class MyClass:\n",
        "    class_attribute = 0\n",
        "\n",
        "    def __init__(self, value):\n",
        "        self.value = value\n",
        "\n",
        "    # Class method\n",
        "    @classmethod\n",
        "    def increment_class_attribute(cls):\n",
        "        cls.class_attribute += 1\n",
        "        print(f\"Class Attribute: {cls.class_attribute}\")\n",
        "\n",
        "\n",
        "# Calling the class method\n",
        "MyClass.increment_class_attribute()\n",
        "MyClass.increment_class_attribute()"
      ],
      "metadata": {
        "colab": {
          "base_uri": "https://localhost:8080/"
        },
        "id": "BYIMWagHDU3M",
        "outputId": "d2ddf2bb-7c87-4a40-f2bf-98ce0bac40f6"
      },
      "execution_count": 20,
      "outputs": [
        {
          "output_type": "stream",
          "name": "stdout",
          "text": [
            "Class Attribute: 1\n",
            "Class Attribute: 2\n"
          ]
        }
      ]
    },
    {
      "cell_type": "markdown",
      "source": [
        "**Static** **Methods**\n",
        "\n"
      ],
      "metadata": {
        "id": "OFt8ka8KDeZ6"
      }
    },
    {
      "cell_type": "code",
      "source": [
        "class MyClass:\n",
        "    def __init__(self, value):\n",
        "        self.value = value\n",
        "\n",
        "    # Static method\n",
        "    @staticmethod\n",
        "    def add(a, b):\n",
        "        return a + b\n",
        "\n",
        "\n",
        "# Calling the static method\n",
        "result = MyClass.add(5, 10)\n",
        "print(f\"Result: {result}\")"
      ],
      "metadata": {
        "colab": {
          "base_uri": "https://localhost:8080/"
        },
        "id": "2NAIh2qcDj8L",
        "outputId": "706cb481-2ae5-4165-a4cd-f970c36e4a1e"
      },
      "execution_count": 21,
      "outputs": [
        {
          "output_type": "stream",
          "name": "stdout",
          "text": [
            "Result: 15\n"
          ]
        }
      ]
    },
    {
      "cell_type": "markdown",
      "source": [
        "5. Explain the significance of encapsulation in Python with an example.\n"
      ],
      "metadata": {
        "id": "6DAvDzIYDuLT"
      }
    },
    {
      "cell_type": "markdown",
      "source": [
        "Encapsulation is a fundamental concept in object-oriented programming (OOP) that binds data and methods that manipulate that data into a single unit, making it harder for other parts of the program to access or modify the data directly.\n",
        "\n",
        "**Significance of Encapsulation:**\n",
        "1. **Data Hiding**: Encapsulation helps to hide the internal details of an object from the outside world, making it harder for other parts of the program to access or modify the data directly.\n",
        "2. **Code Organization**: Encapsulation helps to organize the code into logical units, making it easier to maintain and modify.\n",
        "3. **Improved Security**: By hiding the internal details of an object, encapsulation makes it harder for malicious code to access or modify the data.\n",
        "\n"
      ],
      "metadata": {
        "id": "hCGk5nFaEajP"
      }
    },
    {
      "cell_type": "markdown",
      "source": [
        "**Example**"
      ],
      "metadata": {
        "id": "vStjzDOOE1T5"
      }
    },
    {
      "cell_type": "code",
      "source": [
        "class Employee:\n",
        "    def __init__(self, name, age, salary):\n",
        "        self.__name = name\n",
        "        self.__age = age\n",
        "        self.__salary = salary\n",
        "\n",
        "    def get_name(self):\n",
        "        return self.__name\n",
        "\n",
        "    def get_age(self):\n",
        "        return self.__age\n",
        "\n",
        "    def get_salary(self):\n",
        "        return self.__salary\n",
        "\n",
        "    def increase_salary(self, percentage):\n",
        "        self.__salary += (self.__salary * percentage / 100)\n",
        "        print(f\"Salary increased by {percentage}% to ${self.__salary:.2f}\")\n",
        "\n",
        "employee = Employee(\"John Doe\", 30, 50000)\n",
        "print(employee.get_name())\n",
        "print(employee.get_age())\n",
        "print(employee.get_salary())\n",
        "employee.increase_salary(10)"
      ],
      "metadata": {
        "colab": {
          "base_uri": "https://localhost:8080/"
        },
        "id": "cN3JEZ1oE93S",
        "outputId": "4d240e30-0671-4ae9-bf8d-0e17aa302eef"
      },
      "execution_count": 22,
      "outputs": [
        {
          "output_type": "stream",
          "name": "stdout",
          "text": [
            "John Doe\n",
            "30\n",
            "50000\n",
            "Salary increased by 10% to $55000.00\n"
          ]
        }
      ]
    }
  ]
}